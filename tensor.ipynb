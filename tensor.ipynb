{
 "cells": [
  {
   "cell_type": "code",
   "execution_count": 1,
   "id": "12ccd4a2",
   "metadata": {},
   "outputs": [
    {
     "name": "stdout",
     "output_type": "stream",
     "text": [
      "2.8.0+cpu\n"
     ]
    }
   ],
   "source": [
    "import torch\n",
    "print(torch.__version__)"
   ]
  },
  {
   "cell_type": "code",
   "execution_count": 4,
   "id": "73136466",
   "metadata": {},
   "outputs": [],
   "source": [
    "# pip install torch torchvision torchaudio torchtext textual"
   ]
  },
  {
   "cell_type": "code",
   "execution_count": 8,
   "id": "f92aea9d",
   "metadata": {},
   "outputs": [
    {
     "name": "stdout",
     "output_type": "stream",
     "text": [
      "GPU is not available\n"
     ]
    }
   ],
   "source": [
    "if torch.cuda.is_available():\n",
    "    print(\"CUDA is available\")\n",
    "    print(f\"using GPU :{torch.cuda.get_device_name(0)}\")\n",
    "else:\n",
    "    print(\"GPU is not available\")"
   ]
  },
  {
   "cell_type": "code",
   "execution_count": 10,
   "id": "23209a0d",
   "metadata": {},
   "outputs": [],
   "source": [
    "#creating a tensor"
   ]
  },
  {
   "cell_type": "markdown",
   "id": "c77bb5dd",
   "metadata": {},
   "source": [
    "# using empty"
   ]
  },
  {
   "cell_type": "code",
   "execution_count": 13,
   "id": "b2db93fd",
   "metadata": {},
   "outputs": [
    {
     "name": "stdout",
     "output_type": "stream",
     "text": [
      "tensor([[9.9383e-32, 9.8792e-43, 0.0000e+00],\n",
      "        [0.0000e+00, 0.0000e+00, 0.0000e+00]])\n"
     ]
    }
   ],
   "source": [
    "# using empty -> creates a tensor without initializing its values\n",
    "# it is faster than torch.zeros or torch.ones\n",
    "# but the values in the tensor will be uninitialized and may contain garbage values\n",
    "x = torch.empty(2, 3)\n",
    "print(x)"
   ]
  },
  {
   "cell_type": "code",
   "execution_count": 14,
   "id": "200f6243",
   "metadata": {},
   "outputs": [
    {
     "data": {
      "text/plain": [
       "torch.Tensor"
      ]
     },
     "execution_count": 14,
     "metadata": {},
     "output_type": "execute_result"
    }
   ],
   "source": [
    "type(x)"
   ]
  },
  {
   "cell_type": "code",
   "execution_count": 16,
   "id": "2527dd0b",
   "metadata": {},
   "outputs": [
    {
     "name": "stdout",
     "output_type": "stream",
     "text": [
      "tensor([[0., 0., 0.],\n",
      "        [0., 0., 0.]])\n"
     ]
    }
   ],
   "source": [
    "#using zeros  -> creates a tensor filled with zeros\n",
    "x = torch.zeros(2, 3)\n",
    "print(x)    "
   ]
  },
  {
   "cell_type": "code",
   "execution_count": 18,
   "id": "e3fc8a52",
   "metadata": {},
   "outputs": [
    {
     "name": "stdout",
     "output_type": "stream",
     "text": [
      "tensor([[-0.1334,  0.3102,  0.4824],\n",
      "        [ 1.5139, -0.4559, -0.3496]])\n"
     ]
    }
   ],
   "source": [
    "#using randn -> creates a tensor filled with random numbers from a normal distribution , each time changing\n",
    "x = torch.randn(2, 3)\n",
    "print(x)    "
   ]
  },
  {
   "cell_type": "code",
   "execution_count": 19,
   "id": "564c9a42",
   "metadata": {},
   "outputs": [
    {
     "name": "stdout",
     "output_type": "stream",
     "text": [
      "tensor([[ 0.3367,  0.1288,  0.2345],\n",
      "        [ 0.2303, -1.1229, -0.1863]])\n"
     ]
    }
   ],
   "source": [
    "#manually seed  -> sets the seed for random number generation ,\n",
    "# this ensures that the random numbers generated are the same each time you run the code\n",
    "torch.manual_seed(42)\n",
    "x = torch.randn(2, 3)\n",
    "print(x)"
   ]
  },
  {
   "cell_type": "code",
   "execution_count": 20,
   "id": "583a888c",
   "metadata": {},
   "outputs": [
    {
     "data": {
      "text/plain": [
       "tensor([[ 0.3367,  0.1288,  0.2345],\n",
       "        [ 0.2303, -1.1229, -0.1863]])"
      ]
     },
     "execution_count": 20,
     "metadata": {},
     "output_type": "execute_result"
    }
   ],
   "source": [
    "x"
   ]
  },
  {
   "cell_type": "code",
   "execution_count": 21,
   "id": "4f9a2d71",
   "metadata": {},
   "outputs": [
    {
     "name": "stdout",
     "output_type": "stream",
     "text": [
      "tensor([[1, 2, 3],\n",
      "        [4, 5, 6]])\n"
     ]
    }
   ],
   "source": [
    "# using tensor -> creates a tensor from a list\n",
    "x = torch.tensor([[1, 2, 3], [4, 5, 6]])\n",
    "print(x)"
   ]
  },
  {
   "cell_type": "code",
   "execution_count": 22,
   "id": "b3ad42fe",
   "metadata": {},
   "outputs": [],
   "source": [
    "#other ways to create tensors\n",
    "x = torch.arange(0, 10, 2)"
   ]
  },
  {
   "cell_type": "code",
   "execution_count": 23,
   "id": "3493f640",
   "metadata": {},
   "outputs": [
    {
     "data": {
      "text/plain": [
       "tensor([0, 2, 4, 6, 8])"
      ]
     },
     "execution_count": 23,
     "metadata": {},
     "output_type": "execute_result"
    }
   ],
   "source": [
    "x"
   ]
  },
  {
   "cell_type": "code",
   "execution_count": 24,
   "id": "587f8291",
   "metadata": {},
   "outputs": [
    {
     "name": "stdout",
     "output_type": "stream",
     "text": [
      "tensor([0.0000, 0.2500, 0.5000, 0.7500, 1.0000])\n"
     ]
    }
   ],
   "source": [
    "#linspace -> creates a tensor with evenly spaced values between start and end\n",
    "x = torch.linspace(0, 1, steps=5)\n",
    "print(x)    "
   ]
  },
  {
   "cell_type": "code",
   "execution_count": 25,
   "id": "dd3a53f7",
   "metadata": {},
   "outputs": [
    {
     "name": "stdout",
     "output_type": "stream",
     "text": [
      "tensor([[1., 0., 0.],\n",
      "        [0., 1., 0.],\n",
      "        [0., 0., 1.]])\n"
     ]
    }
   ],
   "source": [
    "# ussing eye -> creates a 2D tensor with ones on the diagonal and zeros elsewhere\n",
    "x = torch.eye(3)\n",
    "print(x)"
   ]
  },
  {
   "cell_type": "code",
   "execution_count": 26,
   "id": "eb220549",
   "metadata": {},
   "outputs": [
    {
     "name": "stdout",
     "output_type": "stream",
     "text": [
      "tensor([[7, 7, 7],\n",
      "        [7, 7, 7]])\n"
     ]
    }
   ],
   "source": [
    "#using full -> creates a tensor filled with a specified value\n",
    "x = torch.full((2, 3), 7)\n",
    "print(x)"
   ]
  },
  {
   "cell_type": "code",
   "execution_count": 27,
   "id": "43acb2f9",
   "metadata": {},
   "outputs": [],
   "source": [
    "#Tensor shape"
   ]
  },
  {
   "cell_type": "code",
   "execution_count": 28,
   "id": "1a889881",
   "metadata": {},
   "outputs": [
    {
     "name": "stdout",
     "output_type": "stream",
     "text": [
      "torch.Size([2, 3])\n"
     ]
    }
   ],
   "source": [
    "x= torch.tensor([[1, 2, 3], [4, 5, 6]])\n",
    "print(x.shape)  # Output: torch.Size([2, 3])"
   ]
  },
  {
   "cell_type": "code",
   "execution_count": 30,
   "id": "cb7d9bcc",
   "metadata": {},
   "outputs": [
    {
     "data": {
      "text/plain": [
       "tensor([[0, 0, 0],\n",
       "        [0, 0, 0]])"
      ]
     },
     "execution_count": 30,
     "metadata": {},
     "output_type": "execute_result"
    }
   ],
   "source": [
    "# create the same tensor with the same shape but uninitialized values\n",
    "torch.empty_like(x)"
   ]
  },
  {
   "cell_type": "code",
   "execution_count": 32,
   "id": "02aba6fa",
   "metadata": {},
   "outputs": [
    {
     "data": {
      "text/plain": [
       "tensor([[0, 0, 0],\n",
       "        [0, 0, 0]])"
      ]
     },
     "execution_count": 32,
     "metadata": {},
     "output_type": "execute_result"
    }
   ],
   "source": [
    "torch.zeros_like(x)  # creates a tensor of zeros with the same shape as x"
   ]
  },
  {
   "cell_type": "code",
   "execution_count": 33,
   "id": "7fc7cfee",
   "metadata": {},
   "outputs": [
    {
     "data": {
      "text/plain": [
       "tensor([[1, 1, 1],\n",
       "        [1, 1, 1]])"
      ]
     },
     "execution_count": 33,
     "metadata": {},
     "output_type": "execute_result"
    }
   ],
   "source": [
    "torch.ones_like(x)   # creates a tensor of ones with the same shape as x"
   ]
  },
  {
   "cell_type": "code",
   "execution_count": 34,
   "id": "8a4a8d8b",
   "metadata": {},
   "outputs": [],
   "source": [
    "#tensor datatypes\n",
    "x = torch.tensor([1, 2, 3], dtype=torch.float32)"
   ]
  },
  {
   "cell_type": "code",
   "execution_count": 35,
   "id": "df2a5369",
   "metadata": {},
   "outputs": [
    {
     "data": {
      "text/plain": [
       "torch.float32"
      ]
     },
     "execution_count": 35,
     "metadata": {},
     "output_type": "execute_result"
    }
   ],
   "source": [
    "x.dtype  # Output: torch.float32"
   ]
  },
  {
   "cell_type": "code",
   "execution_count": 37,
   "id": "44152915",
   "metadata": {},
   "outputs": [
    {
     "name": "stdout",
     "output_type": "stream",
     "text": [
      "torch.int32\n"
     ]
    },
    {
     "data": {
      "text/plain": [
       "tensor([1, 2, 3], dtype=torch.int32)"
      ]
     },
     "execution_count": 37,
     "metadata": {},
     "output_type": "execute_result"
    }
   ],
   "source": [
    "#using to() -> converts the tensor to a different datatype\n",
    "x = x.to(torch.int32)\n",
    "print(x.dtype)  # Output: torch.int32\n",
    "x"
   ]
  },
  {
   "cell_type": "code",
   "execution_count": 39,
   "id": "f2cec987",
   "metadata": {},
   "outputs": [
    {
     "data": {
      "text/plain": [
       "tensor([ 2.2082, -0.6380,  0.4617])"
      ]
     },
     "execution_count": 39,
     "metadata": {},
     "output_type": "execute_result"
    }
   ],
   "source": [
    "torch.randn_like(x,dtype=torch.float32)  # creates a tensor with the same shape as x but with random values"
   ]
  },
  {
   "cell_type": "code",
   "execution_count": 43,
   "id": "142389c5",
   "metadata": {},
   "outputs": [
    {
     "data": {
      "text/plain": [
       "tensor([[1., 2., 3.],\n",
       "        [4., 5., 6.]])"
      ]
     },
     "execution_count": 43,
     "metadata": {},
     "output_type": "execute_result"
    }
   ],
   "source": [
    "#mathematical operations\n",
    "y = torch.tensor([[1, 2, 3], [4, 5, 6]], dtype=torch.float32)\n",
    "y"
   ]
  },
  {
   "cell_type": "code",
   "execution_count": 42,
   "id": "475b627b",
   "metadata": {},
   "outputs": [
    {
     "data": {
      "text/plain": [
       "tensor([[3., 4., 5.],\n",
       "        [6., 7., 8.]])"
      ]
     },
     "execution_count": 42,
     "metadata": {},
     "output_type": "execute_result"
    }
   ],
   "source": [
    "# 1. scalar addition\n",
    "z = y + 2\n",
    "z"
   ]
  },
  {
   "cell_type": "code",
   "execution_count": 45,
   "id": "147d6676",
   "metadata": {},
   "outputs": [
    {
     "data": {
      "text/plain": [
       "tensor([[ 0.9580,  1.3221,  0.8172],\n",
       "        [-0.7658, -0.7506,  1.3525]])"
      ]
     },
     "execution_count": 45,
     "metadata": {},
     "output_type": "execute_result"
    }
   ],
   "source": [
    "x=torch.randn(2, 3)\n",
    "x"
   ]
  },
  {
   "cell_type": "code",
   "execution_count": 46,
   "id": "6989b67e",
   "metadata": {},
   "outputs": [
    {
     "data": {
      "text/plain": [
       "tensor([[0.9177, 1.7480, 0.6678],\n",
       "        [0.5865, 0.5634, 1.8294]])"
      ]
     },
     "execution_count": 46,
     "metadata": {},
     "output_type": "execute_result"
    }
   ],
   "source": [
    "#addition\n",
    "x +2\n",
    "#subtraction\n",
    "x - 2   \n",
    "#multiplication\n",
    "x * 2   \n",
    "#division\n",
    "x / 2       \n",
    "#division\n",
    "x / 2.0 \n",
    "#integer division\n",
    "(x  * 100)// 2 \n",
    "#modulus\n",
    "x % 2   \n",
    "#power\n",
    "x ** 2"
   ]
  },
  {
   "cell_type": "code",
   "execution_count": 47,
   "id": "51f41492",
   "metadata": {},
   "outputs": [],
   "source": [
    "#copy a tensor\n",
    "a =torch.rand(2,3)"
   ]
  },
  {
   "cell_type": "code",
   "execution_count": 48,
   "id": "cb1fce09",
   "metadata": {},
   "outputs": [
    {
     "data": {
      "text/plain": [
       "tensor([[0.7890, 0.2814, 0.7886],\n",
       "        [0.5895, 0.7539, 0.1952]])"
      ]
     },
     "execution_count": 48,
     "metadata": {},
     "output_type": "execute_result"
    }
   ],
   "source": [
    "a"
   ]
  },
  {
   "cell_type": "code",
   "execution_count": 49,
   "id": "35af1dc6",
   "metadata": {},
   "outputs": [],
   "source": [
    "b=a"
   ]
  },
  {
   "cell_type": "code",
   "execution_count": 50,
   "id": "6e982da6",
   "metadata": {},
   "outputs": [
    {
     "data": {
      "text/plain": [
       "tensor([[100.0000,   0.2814,   0.7886],\n",
       "        [  0.5895,   0.7539,   0.1952]])"
      ]
     },
     "execution_count": 50,
     "metadata": {},
     "output_type": "execute_result"
    }
   ],
   "source": [
    "a[0, 0] = 100  # modifying a will also modify b\n",
    "b  # Output: tensor([[100.0000, 0.0000, 0.0000], [0.0000, 0.0000, 0.0000]])"
   ]
  },
  {
   "cell_type": "code",
   "execution_count": 51,
   "id": "b5f3c385",
   "metadata": {},
   "outputs": [
    {
     "data": {
      "text/plain": [
       "tensor([[100.0000,   0.2814,   0.7886],\n",
       "        [  0.5895,   0.7539,   0.1952]])"
      ]
     },
     "execution_count": 51,
     "metadata": {},
     "output_type": "execute_result"
    }
   ],
   "source": [
    "a"
   ]
  },
  {
   "cell_type": "code",
   "execution_count": 52,
   "id": "b6bb6746",
   "metadata": {},
   "outputs": [
    {
     "data": {
      "text/plain": [
       "(2778413791760, 2778413791760)"
      ]
     },
     "execution_count": 52,
     "metadata": {},
     "output_type": "execute_result"
    }
   ],
   "source": [
    "id(a), id(b)  # both a and b point to the same memory location"
   ]
  },
  {
   "cell_type": "code",
   "execution_count": 53,
   "id": "cc954697",
   "metadata": {},
   "outputs": [
    {
     "data": {
      "text/plain": [
       "tensor([[100.0000,   0.2814,   0.7886],\n",
       "        [  0.5895,   0.7539,   0.1952]])"
      ]
     },
     "execution_count": 53,
     "metadata": {},
     "output_type": "execute_result"
    }
   ],
   "source": [
    "b = a.clone()  # creates a copy of the tensor\n",
    "b"
   ]
  },
  {
   "cell_type": "code",
   "execution_count": 54,
   "id": "b226e7fe",
   "metadata": {},
   "outputs": [],
   "source": [
    "a[0, 0] = 10  # modifying a will also modify b"
   ]
  },
  {
   "cell_type": "code",
   "execution_count": 59,
   "id": "1bd50541",
   "metadata": {},
   "outputs": [
    {
     "data": {
      "text/plain": [
       "tensor([[10.0000,  0.2814,  0.7886],\n",
       "        [ 0.5895,  0.7539,  0.1952]])"
      ]
     },
     "execution_count": 59,
     "metadata": {},
     "output_type": "execute_result"
    }
   ],
   "source": [
    "a"
   ]
  },
  {
   "cell_type": "code",
   "execution_count": 60,
   "id": "bb1973bd",
   "metadata": {},
   "outputs": [
    {
     "data": {
      "text/plain": [
       "tensor([[100.0000,   0.2814,   0.7886],\n",
       "        [  0.5895,   0.7539,   0.1952]])"
      ]
     },
     "execution_count": 60,
     "metadata": {},
     "output_type": "execute_result"
    }
   ],
   "source": [
    "b"
   ]
  },
  {
   "cell_type": "code",
   "execution_count": 61,
   "id": "9e80ec9c",
   "metadata": {},
   "outputs": [
    {
     "data": {
      "text/plain": [
       "(2778413791760, 2778424342960)"
      ]
     },
     "execution_count": 61,
     "metadata": {},
     "output_type": "execute_result"
    }
   ],
   "source": [
    "id(a), id(b) "
   ]
  },
  {
   "cell_type": "code",
   "execution_count": 62,
   "id": "4285c36d",
   "metadata": {},
   "outputs": [],
   "source": [
    "#tensor operations on GPU"
   ]
  },
  {
   "cell_type": "code",
   "execution_count": 63,
   "id": "b208f259",
   "metadata": {},
   "outputs": [
    {
     "data": {
      "text/plain": [
       "False"
      ]
     },
     "execution_count": 63,
     "metadata": {},
     "output_type": "execute_result"
    }
   ],
   "source": [
    "torch.cuda.is_available()  # check if CUDA is available"
   ]
  },
  {
   "cell_type": "code",
   "execution_count": 64,
   "id": "138f65e5",
   "metadata": {},
   "outputs": [],
   "source": [
    "device = torch.device(\"cuda\")"
   ]
  },
  {
   "cell_type": "code",
   "execution_count": 65,
   "id": "cd101e43",
   "metadata": {},
   "outputs": [
    {
     "data": {
      "text/plain": [
       "device(type='cuda')"
      ]
     },
     "execution_count": 65,
     "metadata": {},
     "output_type": "execute_result"
    }
   ],
   "source": [
    "device"
   ]
  },
  {
   "cell_type": "code",
   "execution_count": 67,
   "id": "3abc2144",
   "metadata": {},
   "outputs": [
    {
     "ename": "AssertionError",
     "evalue": "Torch not compiled with CUDA enabled",
     "output_type": "error",
     "traceback": [
      "\u001b[31m---------------------------------------------------------------------------\u001b[39m",
      "\u001b[31mAssertionError\u001b[39m                            Traceback (most recent call last)",
      "\u001b[36mCell\u001b[39m\u001b[36m \u001b[39m\u001b[32mIn[67]\u001b[39m\u001b[32m, line 2\u001b[39m\n\u001b[32m      1\u001b[39m \u001b[38;5;66;03m#creating a tensor on GPU\u001b[39;00m\n\u001b[32m----> \u001b[39m\u001b[32m2\u001b[39m x = \u001b[43mtorch\u001b[49m\u001b[43m.\u001b[49m\u001b[43mrandn\u001b[49m\u001b[43m(\u001b[49m\u001b[43m(\u001b[49m\u001b[32;43m2\u001b[39;49m\u001b[43m,\u001b[49m\u001b[43m \u001b[49m\u001b[32;43m3\u001b[39;49m\u001b[43m)\u001b[49m\u001b[43m,\u001b[49m\u001b[43m \u001b[49m\u001b[43mdevice\u001b[49m\u001b[43m=\u001b[49m\u001b[43mdevice\u001b[49m\u001b[43m)\u001b[49m\n\u001b[32m      3\u001b[39m x\n",
      "\u001b[36mFile \u001b[39m\u001b[32mc:\\Users\\Lenovo\\anaconda3\\envs\\amar\\Lib\\site-packages\\torch\\cuda\\__init__.py:403\u001b[39m, in \u001b[36m_lazy_init\u001b[39m\u001b[34m()\u001b[39m\n\u001b[32m    398\u001b[39m     \u001b[38;5;28;01mraise\u001b[39;00m \u001b[38;5;167;01mRuntimeError\u001b[39;00m(\n\u001b[32m    399\u001b[39m         \u001b[33m\"\u001b[39m\u001b[33mCannot re-initialize CUDA in forked subprocess. To use CUDA with \u001b[39m\u001b[33m\"\u001b[39m\n\u001b[32m    400\u001b[39m         \u001b[33m\"\u001b[39m\u001b[33mmultiprocessing, you must use the \u001b[39m\u001b[33m'\u001b[39m\u001b[33mspawn\u001b[39m\u001b[33m'\u001b[39m\u001b[33m start method\u001b[39m\u001b[33m\"\u001b[39m\n\u001b[32m    401\u001b[39m     )\n\u001b[32m    402\u001b[39m \u001b[38;5;28;01mif\u001b[39;00m \u001b[38;5;129;01mnot\u001b[39;00m \u001b[38;5;28mhasattr\u001b[39m(torch._C, \u001b[33m\"\u001b[39m\u001b[33m_cuda_getDeviceCount\u001b[39m\u001b[33m\"\u001b[39m):\n\u001b[32m--> \u001b[39m\u001b[32m403\u001b[39m     \u001b[38;5;28;01mraise\u001b[39;00m \u001b[38;5;167;01mAssertionError\u001b[39;00m(\u001b[33m\"\u001b[39m\u001b[33mTorch not compiled with CUDA enabled\u001b[39m\u001b[33m\"\u001b[39m)\n\u001b[32m    404\u001b[39m \u001b[38;5;28;01mif\u001b[39;00m _cudart \u001b[38;5;129;01mis\u001b[39;00m \u001b[38;5;28;01mNone\u001b[39;00m:\n\u001b[32m    405\u001b[39m     \u001b[38;5;28;01mraise\u001b[39;00m \u001b[38;5;167;01mAssertionError\u001b[39;00m(\n\u001b[32m    406\u001b[39m         \u001b[33m\"\u001b[39m\u001b[33mlibcudart functions unavailable. It looks like you have a broken build?\u001b[39m\u001b[33m\"\u001b[39m\n\u001b[32m    407\u001b[39m     )\n",
      "\u001b[31mAssertionError\u001b[39m: Torch not compiled with CUDA enabled"
     ]
    }
   ],
   "source": [
    "#creating a tensor on GPU\n",
    "x = torch.randn((2, 3), device=device)\n",
    "x"
   ]
  },
  {
   "cell_type": "code",
   "execution_count": 68,
   "id": "cc8065a6",
   "metadata": {},
   "outputs": [
    {
     "name": "stdout",
     "output_type": "stream",
     "text": [
      "2.8.0+cpu\n",
      "CUDA available: False\n"
     ]
    }
   ],
   "source": [
    "import torch\n",
    "print(torch.__version__)\n",
    "print(\"CUDA available:\", torch.cuda.is_available())\n"
   ]
  },
  {
   "cell_type": "code",
   "execution_count": 71,
   "id": "4e1e3ac9",
   "metadata": {},
   "outputs": [
    {
     "data": {
      "text/plain": [
       "tensor([[1., 1., 1., 1.],\n",
       "        [1., 1., 1., 1.],\n",
       "        [1., 1., 1., 1.],\n",
       "        [1., 1., 1., 1.]])"
      ]
     },
     "execution_count": 71,
     "metadata": {},
     "output_type": "execute_result"
    }
   ],
   "source": [
    "#Reshape Tensor\n",
    "x = torch.ones(4,4)\n",
    "x"
   ]
  },
  {
   "cell_type": "code",
   "execution_count": 72,
   "id": "1a7b96c2",
   "metadata": {},
   "outputs": [
    {
     "data": {
      "text/plain": [
       "tensor([[1., 1., 1., 1., 1., 1., 1., 1.],\n",
       "        [1., 1., 1., 1., 1., 1., 1., 1.]])"
      ]
     },
     "execution_count": 72,
     "metadata": {},
     "output_type": "execute_result"
    }
   ],
   "source": [
    "x.reshape(2, 8)  # Reshape to 2 rows and 8 columns"
   ]
  },
  {
   "cell_type": "code",
   "execution_count": 74,
   "id": "d5021502",
   "metadata": {},
   "outputs": [
    {
     "data": {
      "text/plain": [
       "tensor([1., 1., 1., 1., 1., 1., 1., 1., 1., 1., 1., 1., 1., 1., 1., 1.])"
      ]
     },
     "execution_count": 74,
     "metadata": {},
     "output_type": "execute_result"
    }
   ],
   "source": [
    "x.flatten()  # Flatten the tensor to a 1D tensor"
   ]
  },
  {
   "cell_type": "code",
   "execution_count": 75,
   "id": "91e933f3",
   "metadata": {},
   "outputs": [],
   "source": [
    "b=torch.randn((2,3,4))"
   ]
  },
  {
   "cell_type": "code",
   "execution_count": 77,
   "id": "41cb5167",
   "metadata": {},
   "outputs": [
    {
     "data": {
      "text/plain": [
       "tensor([[[ 1.3852, -0.4459,  1.4451,  0.8564],\n",
       "         [ 2.2181,  0.5232,  0.3466, -0.1973],\n",
       "         [ 1.1412,  0.0516,  0.7281, -0.7106]],\n",
       "\n",
       "        [[-0.6021,  0.9604,  0.4048, -1.3543],\n",
       "         [ 1.3347,  0.4835, -0.1976,  1.2683],\n",
       "         [ 1.2243,  0.0981,  1.7423, -1.3527]]])"
      ]
     },
     "execution_count": 77,
     "metadata": {},
     "output_type": "execute_result"
    }
   ],
   "source": [
    "b"
   ]
  },
  {
   "cell_type": "code",
   "execution_count": 78,
   "id": "00482979",
   "metadata": {},
   "outputs": [
    {
     "data": {
      "text/plain": [
       "tensor([[[ 1.3852,  2.2181,  1.1412],\n",
       "         [-0.6021,  1.3347,  1.2243]],\n",
       "\n",
       "        [[-0.4459,  0.5232,  0.0516],\n",
       "         [ 0.9604,  0.4835,  0.0981]],\n",
       "\n",
       "        [[ 1.4451,  0.3466,  0.7281],\n",
       "         [ 0.4048, -0.1976,  1.7423]],\n",
       "\n",
       "        [[ 0.8564, -0.1973, -0.7106],\n",
       "         [-1.3543,  1.2683, -1.3527]]])"
      ]
     },
     "execution_count": 78,
     "metadata": {},
     "output_type": "execute_result"
    }
   ],
   "source": [
    "b.permute(2, 0, 1)  # Change the order of dimensions"
   ]
  },
  {
   "cell_type": "code",
   "execution_count": 79,
   "id": "6e8501f6",
   "metadata": {},
   "outputs": [
    {
     "data": {
      "text/plain": [
       "torch.Size([4, 3, 2])"
      ]
     },
     "execution_count": 79,
     "metadata": {},
     "output_type": "execute_result"
    }
   ],
   "source": [
    "b.permute(2, 1, 0).shape"
   ]
  },
  {
   "cell_type": "code",
   "execution_count": 80,
   "id": "bccd906b",
   "metadata": {},
   "outputs": [],
   "source": [
    "#Numpy and pytorch tensors\n",
    "import numpy as np"
   ]
  },
  {
   "cell_type": "code",
   "execution_count": 81,
   "id": "9b801d2c",
   "metadata": {},
   "outputs": [],
   "source": [
    "a = torch.tensor([1, 2, 3])"
   ]
  },
  {
   "cell_type": "code",
   "execution_count": 83,
   "id": "b079ed18",
   "metadata": {},
   "outputs": [
    {
     "data": {
      "text/plain": [
       "tensor([1, 2, 3])"
      ]
     },
     "execution_count": 83,
     "metadata": {},
     "output_type": "execute_result"
    }
   ],
   "source": [
    "a"
   ]
  },
  {
   "cell_type": "code",
   "execution_count": 84,
   "id": "20de02e2",
   "metadata": {},
   "outputs": [],
   "source": [
    "b=a.numpy()  # Convert PyTorch tensor to NumPy array"
   ]
  },
  {
   "cell_type": "code",
   "execution_count": 85,
   "id": "09bb894b",
   "metadata": {},
   "outputs": [
    {
     "data": {
      "text/plain": [
       "array([1, 2, 3])"
      ]
     },
     "execution_count": 85,
     "metadata": {},
     "output_type": "execute_result"
    }
   ],
   "source": [
    "b"
   ]
  },
  {
   "cell_type": "code",
   "execution_count": null,
   "id": "65d39d4a",
   "metadata": {},
   "outputs": [],
   "source": []
  }
 ],
 "metadata": {
  "kernelspec": {
   "display_name": "amar",
   "language": "python",
   "name": "python3"
  },
  "language_info": {
   "codemirror_mode": {
    "name": "ipython",
    "version": 3
   },
   "file_extension": ".py",
   "mimetype": "text/x-python",
   "name": "python",
   "nbconvert_exporter": "python",
   "pygments_lexer": "ipython3",
   "version": "3.11.11"
  }
 },
 "nbformat": 4,
 "nbformat_minor": 5
}
