{
 "cells": [
  {
   "cell_type": "code",
   "execution_count": 2,
   "id": "d8466846",
   "metadata": {},
   "outputs": [],
   "source": [
    "def dy_dx(x):return 2 * x"
   ]
  },
  {
   "cell_type": "code",
   "execution_count": 4,
   "id": "bdda4faa",
   "metadata": {},
   "outputs": [
    {
     "data": {
      "text/plain": [
       "4"
      ]
     },
     "execution_count": 4,
     "metadata": {},
     "output_type": "execute_result"
    }
   ],
   "source": [
    "dy_dx(2)"
   ]
  },
  {
   "cell_type": "code",
   "execution_count": 5,
   "id": "b80aafdd",
   "metadata": {},
   "outputs": [],
   "source": [
    "import torch"
   ]
  },
  {
   "cell_type": "code",
   "execution_count": 6,
   "id": "a00b6fcc",
   "metadata": {},
   "outputs": [],
   "source": [
    "x=torch.tensor(3.0, requires_grad=True )  # Create a tensor with gradient tracking enabled"
   ]
  },
  {
   "cell_type": "code",
   "execution_count": 7,
   "id": "be1d0ce0",
   "metadata": {},
   "outputs": [],
   "source": [
    "y= x**2  # Define a function of x"
   ]
  },
  {
   "cell_type": "code",
   "execution_count": 8,
   "id": "b750a502",
   "metadata": {},
   "outputs": [
    {
     "data": {
      "text/plain": [
       "tensor(3., requires_grad=True)"
      ]
     },
     "execution_count": 8,
     "metadata": {},
     "output_type": "execute_result"
    }
   ],
   "source": [
    "x"
   ]
  },
  {
   "cell_type": "code",
   "execution_count": 9,
   "id": "1ac22b63",
   "metadata": {},
   "outputs": [
    {
     "data": {
      "text/plain": [
       "tensor(9., grad_fn=<PowBackward0>)"
      ]
     },
     "execution_count": 9,
     "metadata": {},
     "output_type": "execute_result"
    }
   ],
   "source": [
    "y"
   ]
  },
  {
   "cell_type": "code",
   "execution_count": 11,
   "id": "b90f58b7",
   "metadata": {},
   "outputs": [],
   "source": [
    "x.grad"
   ]
  },
  {
   "cell_type": "code",
   "execution_count": 12,
   "id": "b93c0c75",
   "metadata": {},
   "outputs": [],
   "source": [
    "import math"
   ]
  },
  {
   "cell_type": "code",
   "execution_count": 15,
   "id": "11ac25a4",
   "metadata": {},
   "outputs": [],
   "source": [
    "def dz_dx(x):\n",
    "    return 2 * x + math.cos(x**2)"
   ]
  },
  {
   "cell_type": "code",
   "execution_count": 16,
   "id": "903a29d4",
   "metadata": {},
   "outputs": [
    {
     "data": {
      "text/plain": [
       "5.088869738115323"
      ]
     },
     "execution_count": 16,
     "metadata": {},
     "output_type": "execute_result"
    }
   ],
   "source": [
    "dz_dx(3)"
   ]
  },
  {
   "cell_type": "code",
   "execution_count": null,
   "id": "48a5550f",
   "metadata": {},
   "outputs": [],
   "source": []
  }
 ],
 "metadata": {
  "kernelspec": {
   "display_name": "amar",
   "language": "python",
   "name": "python3"
  },
  "language_info": {
   "codemirror_mode": {
    "name": "ipython",
    "version": 3
   },
   "file_extension": ".py",
   "mimetype": "text/x-python",
   "name": "python",
   "nbconvert_exporter": "python",
   "pygments_lexer": "ipython3",
   "version": "3.11.11"
  }
 },
 "nbformat": 4,
 "nbformat_minor": 5
}
