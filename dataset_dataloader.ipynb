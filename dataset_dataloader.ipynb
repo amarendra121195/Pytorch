{
 "cells": [
  {
   "cell_type": "code",
   "execution_count": 3,
   "id": "23326cd8",
   "metadata": {},
   "outputs": [],
   "source": [
    "from sklearn.datasets import make_classification\n",
    "import torch\n",
    "import torch.nn as nn"
   ]
  },
  {
   "cell_type": "code",
   "execution_count": 7,
   "id": "68c282c7",
   "metadata": {},
   "outputs": [],
   "source": [
    "#step 1:create a synthetc classification dataset using sklearn\n",
    "X, y = make_classification(\n",
    "    n_samples=10, # Reduced number of samples for simplicity\n",
    "    n_features=2, # Reduced number of features for simplicity\n",
    "    n_informative=2, # All features are informative\n",
    "    n_redundant=0,# Reduced number of redundant features for simplicity\n",
    "    n_classes=2, # Binary classification\n",
    "    random_state=42) #reproducibility"
   ]
  },
  {
   "cell_type": "code",
   "execution_count": 17,
   "id": "c79c425d",
   "metadata": {},
   "outputs": [],
   "source": [
    "# Step 2: Convert to PyTorch tensors\n",
    "X = torch.tensor(X, dtype=torch.float32)\n",
    "y = torch.tensor(y, dtype=torch.long)"
   ]
  },
  {
   "cell_type": "code",
   "execution_count": 18,
   "id": "675013df",
   "metadata": {},
   "outputs": [
    {
     "data": {
      "text/plain": [
       "tensor([[ 1.0683, -0.9701],\n",
       "        [-1.1402, -0.8388],\n",
       "        [-2.8954,  1.9769],\n",
       "        [-0.7206, -0.9606],\n",
       "        [-1.9629, -0.9923],\n",
       "        [-0.9382, -0.5430],\n",
       "        [ 1.7273, -1.1858],\n",
       "        [ 1.7774,  1.5116],\n",
       "        [ 1.8997,  0.8344],\n",
       "        [-0.5872, -1.9717]])"
      ]
     },
     "execution_count": 18,
     "metadata": {},
     "output_type": "execute_result"
    }
   ],
   "source": [
    "X"
   ]
  },
  {
   "cell_type": "code",
   "execution_count": 19,
   "id": "d1517c87",
   "metadata": {},
   "outputs": [
    {
     "data": {
      "text/plain": [
       "tensor([1, 0, 0, 0, 0, 1, 1, 1, 1, 0])"
      ]
     },
     "execution_count": 19,
     "metadata": {},
     "output_type": "execute_result"
    }
   ],
   "source": [
    "y"
   ]
  },
  {
   "cell_type": "code",
   "execution_count": 20,
   "id": "557d775d",
   "metadata": {},
   "outputs": [],
   "source": [
    "from torch.utils.data import Dataset, DataLoader # load the Dataset and DataLoader classes from utils.data"
   ]
  },
  {
   "cell_type": "code",
   "execution_count": 21,
   "id": "fefc349c",
   "metadata": {},
   "outputs": [],
   "source": [
    "class CustomDataset(Dataset):\n",
    "\n",
    "    def __init__(self, features, labels):\n",
    "        self.features =features\n",
    "        self.labels = labels\n",
    "\n",
    "    def __len__(self):\n",
    "        self.features.shape[0] # return the number of samples\n",
    "        \n",
    "    def __getitem__(self, index):\n",
    "        return self.features[index], self.labels[index] # return the feature and label at the given index"
   ]
  },
  {
   "cell_type": "code",
   "execution_count": 22,
   "id": "d5b41ec5",
   "metadata": {},
   "outputs": [],
   "source": [
    "dataset = CustomDataset(X,y)"
   ]
  },
  {
   "cell_type": "code",
   "execution_count": null,
   "id": "8d270886",
   "metadata": {},
   "outputs": [],
   "source": []
  },
  {
   "cell_type": "code",
   "execution_count": 26,
   "id": "821cb795",
   "metadata": {},
   "outputs": [
    {
     "data": {
      "text/plain": [
       "(tensor([-0.7206, -0.9606]), tensor(0))"
      ]
     },
     "execution_count": 26,
     "metadata": {},
     "output_type": "execute_result"
    }
   ],
   "source": [
    "dataset[3]"
   ]
  },
  {
   "cell_type": "code",
   "execution_count": 28,
   "id": "8105e550",
   "metadata": {},
   "outputs": [
    {
     "name": "stdout",
     "output_type": "stream",
     "text": [
      "tensor([[-0.5872, -1.9717],\n",
      "        [ 1.0683, -0.9701]]) tensor([0, 1])\n",
      "tensor([[-0.9382, -0.5430],\n",
      "        [-0.7206, -0.9606]]) tensor([1, 0])\n",
      "tensor([[ 1.7774,  1.5116],\n",
      "        [-1.9629, -0.9923]]) tensor([1, 0])\n",
      "tensor([[ 1.7273, -1.1858],\n",
      "        [-1.1402, -0.8388]]) tensor([1, 0])\n",
      "tensor([[-2.8954,  1.9769],\n",
      "        [ 1.8997,  0.8344]]) tensor([0, 1])\n"
     ]
    }
   ],
   "source": [
    "from torch.utils.data import TensorDataset, DataLoader\n",
    "\n",
    "dataset = TensorDataset(X, y)\n",
    "\n",
    "# Correct way\n",
    "loader = DataLoader(dataset, batch_size=2, shuffle=True)\n",
    "\n",
    "# Example: iterate through batches\n",
    "for batch_X, batch_y in loader:\n",
    "    print(batch_X, batch_y)\n"
   ]
  },
  {
   "cell_type": "code",
   "execution_count": 29,
   "id": "43a972f9",
   "metadata": {},
   "outputs": [],
   "source": [
    "DataLoader = DataLoader(dataset, batch_size=2, shuffle=True) # create a DataLoader with a batch size of 2 and shuffling enabled"
   ]
  },
  {
   "cell_type": "code",
   "execution_count": 30,
   "id": "540260b0",
   "metadata": {},
   "outputs": [
    {
     "name": "stdout",
     "output_type": "stream",
     "text": [
      "tensor([[-0.9382, -0.5430],\n",
      "        [ 1.8997,  0.8344]])\n",
      "tensor([1, 1])\n",
      "--------------------------------------------------\n",
      "tensor([[ 1.0683, -0.9701],\n",
      "        [-2.8954,  1.9769]])\n",
      "tensor([1, 0])\n",
      "--------------------------------------------------\n",
      "tensor([[ 1.7774,  1.5116],\n",
      "        [-0.5872, -1.9717]])\n",
      "tensor([1, 0])\n",
      "--------------------------------------------------\n",
      "tensor([[-1.9629, -0.9923],\n",
      "        [ 1.7273, -1.1858]])\n",
      "tensor([0, 1])\n",
      "--------------------------------------------------\n",
      "tensor([[-0.7206, -0.9606],\n",
      "        [-1.1402, -0.8388]])\n",
      "tensor([0, 0])\n",
      "--------------------------------------------------\n"
     ]
    }
   ],
   "source": [
    "for batch_features, batch_labels in DataLoader:\n",
    "    print(batch_features)  # Print the features and labels in each batch\n",
    "    print(batch_labels)\n",
    "    print(\"-\"*50)  # Separator for clarity"
   ]
  },
  {
   "cell_type": "code",
   "execution_count": null,
   "id": "67fd1656",
   "metadata": {},
   "outputs": [],
   "source": []
  }
 ],
 "metadata": {
  "kernelspec": {
   "display_name": "amar",
   "language": "python",
   "name": "python3"
  },
  "language_info": {
   "codemirror_mode": {
    "name": "ipython",
    "version": 3
   },
   "file_extension": ".py",
   "mimetype": "text/x-python",
   "name": "python",
   "nbconvert_exporter": "python",
   "pygments_lexer": "ipython3",
   "version": "3.11.11"
  }
 },
 "nbformat": 4,
 "nbformat_minor": 5
}
